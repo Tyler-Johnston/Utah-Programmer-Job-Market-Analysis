{
 "cells": [
  {
   "cell_type": "code",
   "execution_count": null,
   "metadata": {},
   "outputs": [],
   "source": [
    "import pandas as pd\n",
    "from matplotlib import pyplot as plt\n",
    "import seaborn as sns"
   ]
  },
  {
   "cell_type": "markdown",
   "metadata": {},
   "source": [
    "# Understanding The Data"
   ]
  },
  {
   "cell_type": "code",
   "execution_count": null,
   "metadata": {},
   "outputs": [],
   "source": [
    "# data pre-processing of the family income / comfortability dataset\n",
    "df = pd.read_excel(\"fbc_data_2024.xlsx\", sheet_name='County', header=1)\n",
    "ut_df = df[df[\"State abv.\"] == 'UT']\n",
    "cache_county_df = ut_df[ut_df['County'] == 'Cache County']"
   ]
  },
  {
   "cell_type": "code",
   "execution_count": null,
   "metadata": {},
   "outputs": [],
   "source": [
    "def CostOfLivingPerCounty(county_name, plot=False):\n",
    "    specific_county_df = ut_df[ut_df['County'] == county_name]\n",
    "    family_types = specific_county_df['Family']\n",
    "    \n",
    "    monthly_total_costs = specific_county_df['Total']\n",
    "    yearly_total_costs = specific_county_df['Total.1']\n",
    "\n",
    "    print(f\"\\nCosts for {county_name}:\")\n",
    "    for family, monthly_cost, yearly_cost in zip(family_types, monthly_total_costs, yearly_total_costs):\n",
    "        print(f\"\\tFamily Type: {family}, Monthly Cost: ${monthly_cost}, Yearly Cost: ${yearly_cost}\")\n",
    "\n",
    "    if (plot):\n",
    "        # Monthly costs\n",
    "        plt.figure(figsize=(12, 8))\n",
    "        plt.bar(family_types, monthly_total_costs, color='skyblue')\n",
    "        plt.xlabel('Family Type')\n",
    "        plt.ylabel('Total Cost of Living ($)')\n",
    "        plt.title(f'Monthly Cost of Living by Family Type in {county_name}')\n",
    "        plt.xticks(rotation=45)\n",
    "        plt.show()\n",
    "\n",
    "        # Yearly costs\n",
    "        plt.figure(figsize=(12, 8))\n",
    "        plt.bar(family_types, yearly_total_costs, color='lightgreen')\n",
    "        plt.xlabel('Family Type')\n",
    "        plt.ylabel('Yearly Cost of Living ($)')\n",
    "        plt.title(f'Yearly Cost of Living by Family Type in {county_name}')\n",
    "        plt.xticks(rotation=45)\n",
    "        plt.show()\n",
    "\n",
    "CostOfLivingPerCounty(\"Cache County\", plot=True)\n",
    "CostOfLivingPerCounty(\"Salt Lake County\", plot=True)"
   ]
  },
  {
   "cell_type": "code",
   "execution_count": null,
   "metadata": {},
   "outputs": [],
   "source": [
    "def TopCountiesByCost(num, descending=True):\n",
    "    average_costs = {}\n",
    "    \n",
    "    for county in ut_df['County'].unique():\n",
    "        county_data = ut_df[ut_df['County'] == county]\n",
    "        average_monthly_cost = county_data['Total'].mean()\n",
    "        average_costs[county] = average_monthly_cost\n",
    "        \n",
    "    top_counties = sorted(average_costs, key=average_costs.get, reverse=descending)[:num]\n",
    "\n",
    "    adj = 'most' if descending else 'least'\n",
    "    print(f\"\\nTop {num} {adj} expensive counties by monthly cost:\")\n",
    "    for county in top_counties:\n",
    "        print(f\"\\t{county}: ${average_costs[county]:.2f}\")\n",
    "\n",
    "TopCountiesByCost(11)\n",
    "TopCountiesByCost(11, descending=False)"
   ]
  },
  {
   "cell_type": "code",
   "execution_count": null,
   "metadata": {},
   "outputs": [],
   "source": [
    "# pre-processing wages dataset\n",
    "df = pd.read_excel(\"wages.xlsx\")\n",
    "wage_df = df[~df['Area Name'].isin(['United States', 'Statewide'])]\n",
    "\n",
    "def wagesAnalysis(wage_data, inexperienced=True):\n",
    "    adj = 'Inexperienced' if inexperienced else 'Median'\n",
    "    \n",
    "    # analysis of average salary by job title\n",
    "    average_salary_by_job = wage_data.groupby('Job Title')[f'Annual {adj}'].mean().reset_index()\n",
    "    best_paying_jobs = average_salary_by_job.sort_values(by=f'Annual {adj}', ascending=False).head()\n",
    "    worst_paying_jobs = average_salary_by_job.sort_values(by=f'Annual {adj}', ascending=True).head()\n",
    "    \n",
    "    # plotting best and worst paying jobs\n",
    "    fig, axes = plt.subplots(nrows=1, ncols=2, figsize=(14, 5))\n",
    "    sns.barplot(x='Job Title', y=f'Annual {adj}', data=best_paying_jobs, ax=axes[0], color='skyblue')\n",
    "    axes[0].set_title(f'Best Paying Jobs ({adj})')\n",
    "    sns.barplot(x='Job Title', y=f'Annual {adj}', data=worst_paying_jobs, ax=axes[1], color='lightgreen')\n",
    "    axes[1].set_title(f'Worst Paying Jobs ({adj})')\n",
    "    for ax in axes:\n",
    "        ax.set_xticklabels(ax.get_xticklabels(), rotation=45, ha='right')\n",
    "    plt.tight_layout()\n",
    "\n",
    "    # analysis of average salary by area\n",
    "    average_salary_by_area = wage_data.groupby('Area Name')[f'Annual {adj}'].mean().reset_index()\n",
    "    best_locations = average_salary_by_area.sort_values(by=f'Annual {adj}', ascending=False).head()\n",
    "    worst_locations = average_salary_by_area.sort_values(by=f'Annual {adj}', ascending=True).head()\n",
    "    \n",
    "    # plotting best and worst locations for salaries vertically\n",
    "    fig, axes = plt.subplots(nrows=1, ncols=2, figsize=(14, 5))\n",
    "    sns.barplot(x='Area Name', y=f'Annual {adj}', data=best_locations, ax=axes[0], color='skyblue')\n",
    "    axes[0].set_title(f'Best Locations by Average Salary ({adj})')\n",
    "    sns.barplot(x='Area Name', y=f'Annual {adj}', data=worst_locations, ax=axes[1], color='lightgreen')\n",
    "    axes[1].set_title(f'Worst Locations by Average Salary ({adj})')\n",
    "    for ax in axes:\n",
    "        ax.set_xticklabels(ax.get_xticklabels(), rotation=45, ha='right')\n",
    "    plt.tight_layout()\n",
    "    plt.show()\n",
    "\n",
    "wagesAnalysis(wage_df, inexperienced=True)\n",
    "wagesAnalysis(wage_df, inexperienced=False)"
   ]
  },
  {
   "cell_type": "code",
   "execution_count": null,
   "metadata": {},
   "outputs": [],
   "source": [
    "# rename \"Area Name\" in wage_df to \"County\" to match ut_df\n",
    "wage_df.rename(columns={'Area Name': 'County'}, inplace=True)\n",
    "\n",
    "# merge the datasets based on the county\n",
    "combined_df = pd.merge(wage_df, ut_df, on='County')\n",
    "\n",
    "# ['Cache', 'Central Southwest Utah', 'Eastern Utah', 'Ogden-Clearfield Metro', 'Provo-Orem Metro', 'Salt Lake Metro', 'St George Metro']\n",
    "# ['Beaver County', 'Box Elder County', 'Cache County', 'Carbon County', 'Daggett County', 'Davis County', 'Duchesne County', 'Emery County', 'Garfield County', 'Grand County', 'Iron County', 'Juab County', 'Kane County', 'Millard County', 'Morgan County', 'Piute County', 'Rich County', 'Salt Lake County', 'San Juan County', 'Sanpete County', 'Sevier County', 'Summit County', 'Tooele County', 'Uintah County', 'Utah County', 'Wasatch County', 'Washington County', 'Wayne County', 'Weber County']"
   ]
  }
 ],
 "metadata": {
  "kernelspec": {
   "display_name": "Python 3",
   "language": "python",
   "name": "python3"
  },
  "language_info": {
   "codemirror_mode": {
    "name": "ipython",
    "version": 3
   },
   "file_extension": ".py",
   "mimetype": "text/x-python",
   "name": "python",
   "nbconvert_exporter": "python",
   "pygments_lexer": "ipython3",
   "version": "3.11.5"
  }
 },
 "nbformat": 4,
 "nbformat_minor": 2
}
