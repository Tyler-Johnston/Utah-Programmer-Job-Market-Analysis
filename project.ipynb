{
 "cells": [
  {
   "cell_type": "code",
   "execution_count": null,
   "metadata": {},
   "outputs": [],
   "source": [
    "import pandas as pd\n",
    "from matplotlib import pyplot as plt\n",
    "import seaborn as sns"
   ]
  },
  {
   "cell_type": "markdown",
   "metadata": {},
   "source": [
    "# Understanding The Data"
   ]
  },
  {
   "cell_type": "code",
   "execution_count": null,
   "metadata": {},
   "outputs": [],
   "source": [
    "# data pre-processing of the family income / comfortability dataset\n",
    "df = pd.read_excel(\"fbc_data_2024.xlsx\", sheet_name='County', header=1)\n",
    "ut_df = df[df[\"State abv.\"] == 'UT']\n",
    "cache_county_df = ut_df[ut_df['County'] == 'Cache County']"
   ]
  },
  {
   "cell_type": "code",
   "execution_count": null,
   "metadata": {},
   "outputs": [],
   "source": [
    "def CostOfLivingPerCounty(county_name, plot=False):\n",
    "    specific_county_df = ut_df[ut_df['County'] == county_name]\n",
    "    family_types = specific_county_df['Family']\n",
    "    \n",
    "    monthly_total_costs = specific_county_df['Total']\n",
    "    yearly_total_costs = specific_county_df['Total.1']\n",
    "\n",
    "    print(f\"\\nCosts for {county_name}:\")\n",
    "    for family, monthly_cost, yearly_cost in zip(family_types, monthly_total_costs, yearly_total_costs):\n",
    "        print(f\"\\tFamily Type: {family}, Monthly Cost: ${monthly_cost}, Yearly Cost: ${yearly_cost}\")\n",
    "\n",
    "    if (plot):\n",
    "        # Monthly costs\n",
    "        plt.figure(figsize=(12, 8))\n",
    "        plt.bar(family_types, monthly_total_costs, color='skyblue')\n",
    "        plt.xlabel('Family Type')\n",
    "        plt.ylabel('Total Cost of Living ($)')\n",
    "        plt.title(f'Monthly Cost of Living by Family Type in {county_name}')\n",
    "        plt.xticks(rotation=45)\n",
    "        plt.show()\n",
    "\n",
    "        # Yearly costs\n",
    "        plt.figure(figsize=(12, 8))\n",
    "        plt.bar(family_types, yearly_total_costs, color='lightgreen')\n",
    "        plt.xlabel('Family Type')\n",
    "        plt.ylabel('Yearly Cost of Living ($)')\n",
    "        plt.title(f'Yearly Cost of Living by Family Type in {county_name}')\n",
    "        plt.xticks(rotation=45)\n",
    "        plt.show()\n",
    "\n",
    "CostOfLivingPerCounty(\"Cache County\", plot=True)\n",
    "CostOfLivingPerCounty(\"Salt Lake County\", plot=True)"
   ]
  },
  {
   "cell_type": "code",
   "execution_count": null,
   "metadata": {},
   "outputs": [],
   "source": [
    "def TopCountiesByCost(num, descending=True):\n",
    "    average_costs = {}\n",
    "    \n",
    "    for county in ut_df['County'].unique():\n",
    "        county_data = ut_df[ut_df['County'] == county]\n",
    "        average_monthly_cost = county_data['Total'].mean()\n",
    "        average_costs[county] = average_monthly_cost\n",
    "        \n",
    "    top_counties = sorted(average_costs, key=average_costs.get, reverse=descending)[:num]\n",
    "\n",
    "    adj = 'most' if descending else 'least'\n",
    "    print(f\"\\nTop {num} {adj} expensive counties by monthly cost:\")\n",
    "    for county in top_counties:\n",
    "        print(f\"\\t{county}: ${average_costs[county]:.2f}\")\n",
    "\n",
    "TopCountiesByCost(11)\n",
    "TopCountiesByCost(11, descending=False)"
   ]
  },
  {
   "cell_type": "code",
   "execution_count": null,
   "metadata": {},
   "outputs": [],
   "source": [
    "# pre-processing wages dataset\n",
    "df = pd.read_excel(\"wages.xlsx\")\n",
    "wage_df = df[~df['Area Name'].isin(['United States', 'Statewide'])]\n",
    "\n",
    "def wagesAnalysis(wage_data, inexperienced=True):\n",
    "    adj = 'Inexperienced' if inexperienced else 'Median'\n",
    "    \n",
    "    # analysis of average salary by job title\n",
    "    average_salary_by_job = wage_data.groupby('Job Title')[f'Annual {adj}'].mean().reset_index()\n",
    "    best_paying_jobs = average_salary_by_job.sort_values(by=f'Annual {adj}', ascending=False).head()\n",
    "    worst_paying_jobs = average_salary_by_job.sort_values(by=f'Annual {adj}', ascending=True).head()\n",
    "    \n",
    "    # plotting best and worst paying jobs\n",
    "    fig, axes = plt.subplots(nrows=1, ncols=2, figsize=(14, 5))\n",
    "    sns.barplot(x='Job Title', y=f'Annual {adj}', data=best_paying_jobs, ax=axes[0], color='skyblue')\n",
    "    axes[0].set_title(f'Best Paying Jobs ({adj})')\n",
    "    sns.barplot(x='Job Title', y=f'Annual {adj}', data=worst_paying_jobs, ax=axes[1], color='lightgreen')\n",
    "    axes[1].set_title(f'Worst Paying Jobs ({adj})')\n",
    "    for ax in axes:\n",
    "        ax.set_xticklabels(ax.get_xticklabels(), rotation=45, ha='right')\n",
    "    plt.tight_layout()\n",
    "\n",
    "    # analysis of average salary by area\n",
    "    average_salary_by_area = wage_data.groupby('Area Name')[f'Annual {adj}'].mean().reset_index()\n",
    "    best_locations = average_salary_by_area.sort_values(by=f'Annual {adj}', ascending=False).head()\n",
    "    worst_locations = average_salary_by_area.sort_values(by=f'Annual {adj}', ascending=True).head()\n",
    "    \n",
    "    # plotting best and worst locations for salaries vertically\n",
    "    fig, axes = plt.subplots(nrows=1, ncols=2, figsize=(14, 5))\n",
    "    sns.barplot(x='Area Name', y=f'Annual {adj}', data=best_locations, ax=axes[0], color='skyblue')\n",
    "    axes[0].set_title(f'Best Locations by Average Salary ({adj})')\n",
    "    sns.barplot(x='Area Name', y=f'Annual {adj}', data=worst_locations, ax=axes[1], color='lightgreen')\n",
    "    axes[1].set_title(f'Worst Locations by Average Salary ({adj})')\n",
    "    for ax in axes:\n",
    "        ax.set_xticklabels(ax.get_xticklabels(), rotation=45, ha='right')\n",
    "    plt.tight_layout()\n",
    "    plt.show()\n",
    "\n",
    "wagesAnalysis(wage_df, inexperienced=True)\n",
    "wagesAnalysis(wage_df, inexperienced=False)"
   ]
  },
  {
   "cell_type": "markdown",
   "metadata": {},
   "source": [
    "# Analysis 1: Salary vs Cost of Living"
   ]
  },
  {
   "cell_type": "code",
   "execution_count": null,
   "metadata": {},
   "outputs": [],
   "source": [
    "# pre-processing. get the combined dataset\n",
    "df = pd.read_excel(\"wages.xlsx\")\n",
    "wage_df = df[~df['Area Name'].isin(['United States', 'Statewide']).copy()]\n",
    "wage_df.rename(columns={'Area Name': 'County'}, inplace=True)\n",
    "\n",
    "# apply the mapping to wage_df to create a new 'Mapped County' column\n",
    "wage_df['Mapped County'] = wage_df['County'].map({\n",
    "    'Cache': 'Cache County',\n",
    "    'Central Southwest Utah': 'Beaver County',\n",
    "    'Eastern Utah': 'Carbon County',\n",
    "    'Ogden-Clearfield Metro': 'Weber County',\n",
    "    'Provo-Orem Metro': 'Utah County',\n",
    "    'Salt Lake Metro': 'Salt Lake County',\n",
    "    'St George Metro': 'Washington County'\n",
    "})\n",
    "\n",
    "combined_df = pd.merge(wage_df, ut_df, left_on='Mapped County', right_on='County')\n",
    "\n",
    "# - An Affordability Index > 1 means income is greater than the cost of living (more affordable).\n",
    "# - An Affordability Index < 1 means income is less than the cost of living (less affordable).\n",
    "combined_df['Affordability Index'] = combined_df['Annual Median'] / combined_df['Total.1']"
   ]
  },
  {
   "cell_type": "code",
   "execution_count": null,
   "metadata": {},
   "outputs": [],
   "source": [
    "def affordabilityAnalysis(num):\n",
    "    # Exclude rows where 'Annual Median' or 'Total.1' is NaN\n",
    "    df = combined_df.dropna(subset=['Annual Median', 'Total.1'])\n",
    "\n",
    "    # Calculate the affordability index\n",
    "    df['Affordability Index'] = df['Annual Median'] / df['Total.1']\n",
    "    sorted_df = df.sort_values(by='Affordability Index', ascending=False)\n",
    "    \n",
    "    # Get the top 5 most affordable\n",
    "    most_affordable = sorted_df.head(num)\n",
    "    \n",
    "    # Get the top 5 least affordable\n",
    "    least_affordable = sorted_df.tail(num)\n",
    "\n",
    "    print(f\"Top {num} Most Affordable:\")\n",
    "    print(most_affordable[['Job Title', 'Mapped County', 'Annual Median', 'Total.1', 'Affordability Index']])\n",
    "    print(f\"\\nTop {num} Least Affordable:\")\n",
    "    print(least_affordable[['Job Title', 'Mapped County', 'Annual Median', 'Total.1', 'Affordability Index']])\n",
    "        \n",
    "affordabilityAnalysis(8)"
   ]
  },
  {
   "cell_type": "code",
   "execution_count": null,
   "metadata": {},
   "outputs": [],
   "source": [
    "def plotAffordability(combined_df, num=5):\n",
    "    # Exclude rows where 'Annual Median' or 'Total.1' is NaN\n",
    "    df = combined_df.dropna(subset=['Annual Median', 'Total.1'])\n",
    "\n",
    "    # Calculate the affordability index\n",
    "    df['Affordability Index'] = df['Annual Median'] / df['Total.1']\n",
    "    sorted_df = df.sort_values(by='Affordability Index', ascending=False)\n",
    "    \n",
    "    most_affordable = sorted_df.head(num)\n",
    "    least_affordable = sorted_df.tail(num)\n",
    "\n",
    "    # Combine for plotting\n",
    "    plot_df = pd.concat([most_affordable, least_affordable])\n",
    "    plot_df['Type'] = ['Most Affordable'] * num + ['Least Affordable'] * num\n",
    "    plot_df['Label'] = plot_df['Job Title'] + \" - \" + plot_df['Mapped County'] + \\\n",
    "                       \" (\" + plot_df['Affordability Index'].round(2).astype(str) + \")\"\n",
    "    \n",
    "    # Create a bar plot\n",
    "    plt.figure(figsize=(8, 8))\n",
    "    barplot = sns.barplot(x='Affordability Index', y='Label', hue='Type', data=plot_df, dodge=False)\n",
    "    plt.title('Top and Bottom Affordability Index by Job and County')\n",
    "    plt.xlabel('Affordability Index')\n",
    "    plt.ylabel('Job Title - County (Affordability Index)')\n",
    "    plt.legend(title='Affordability Type', loc='lower right')\n",
    "\n",
    "    plt.show()\n",
    "\n",
    "plotAffordability(combined_df, 10)"
   ]
  }
 ],
 "metadata": {
  "kernelspec": {
   "display_name": "Python 3",
   "language": "python",
   "name": "python3"
  },
  "language_info": {
   "codemirror_mode": {
    "name": "ipython",
    "version": 3
   },
   "file_extension": ".py",
   "mimetype": "text/x-python",
   "name": "python",
   "nbconvert_exporter": "python",
   "pygments_lexer": "ipython3",
   "version": "3.11.5"
  }
 },
 "nbformat": 4,
 "nbformat_minor": 2
}
