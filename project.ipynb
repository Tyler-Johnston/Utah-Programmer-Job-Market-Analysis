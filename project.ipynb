{
 "cells": [
  {
   "cell_type": "code",
   "execution_count": 30,
   "metadata": {},
   "outputs": [],
   "source": [
    "import pandas as pd\n",
    "from matplotlib import pyplot as plt\n",
    "import seaborn as sns"
   ]
  },
  {
   "cell_type": "code",
   "execution_count": 31,
   "metadata": {},
   "outputs": [],
   "source": [
    "# data pre-processing of the family income / comfortability dataset\n",
    "df = pd.read_excel(\"fbc_data_2024.xlsx\", sheet_name='County', header=1)\n",
    "ut_df = df[df[\"State abv.\"] == 'UT']\n",
    "cache_county_df = ut_df[ut_df['County'] == 'Cache County']"
   ]
  },
  {
   "cell_type": "code",
   "execution_count": 38,
   "metadata": {},
   "outputs": [
    {
     "name": "stdout",
     "output_type": "stream",
     "text": [
      "\n",
      "Costs for Cache County:\n",
      "\tFamily Type: 1p0c, Monthly Cost: $3457, Yearly Cost: $41484\n",
      "\tFamily Type: 1p1c, Monthly Cost: $5450, Yearly Cost: $65400\n",
      "\tFamily Type: 1p2c, Monthly Cost: $7132, Yearly Cost: $85584\n",
      "\tFamily Type: 1p3c, Monthly Cost: $8934, Yearly Cost: $107208\n",
      "\tFamily Type: 1p4c, Monthly Cost: $9779, Yearly Cost: $117348\n",
      "\tFamily Type: 2p0c, Monthly Cost: $4706, Yearly Cost: $56472\n",
      "\tFamily Type: 2p1c, Monthly Cost: $6534, Yearly Cost: $78408\n",
      "\tFamily Type: 2p2c, Monthly Cost: $7950, Yearly Cost: $95400\n",
      "\tFamily Type: 2p3c, Monthly Cost: $9564, Yearly Cost: $114768\n",
      "\tFamily Type: 2p4c, Monthly Cost: $10456, Yearly Cost: $125472\n",
      "\n",
      "Costs for Salt Lake County:\n",
      "\tFamily Type: 1p0c, Monthly Cost: $3961, Yearly Cost: $47532\n",
      "\tFamily Type: 1p1c, Monthly Cost: $6262, Yearly Cost: $75144\n",
      "\tFamily Type: 1p2c, Monthly Cost: $7882, Yearly Cost: $94584\n",
      "\tFamily Type: 1p3c, Monthly Cost: $9964, Yearly Cost: $119568\n",
      "\tFamily Type: 1p4c, Monthly Cost: $10863, Yearly Cost: $130356\n",
      "\tFamily Type: 2p0c, Monthly Cost: $5375, Yearly Cost: $64500\n",
      "\tFamily Type: 2p1c, Monthly Cost: $7191, Yearly Cost: $86292\n",
      "\tFamily Type: 2p2c, Monthly Cost: $8573, Yearly Cost: $102876\n",
      "\tFamily Type: 2p3c, Monthly Cost: $10587, Yearly Cost: $127044\n",
      "\tFamily Type: 2p4c, Monthly Cost: $11465, Yearly Cost: $137580\n"
     ]
    }
   ],
   "source": [
    "def CostOfLivingPerCounty(county_name, plot=True):\n",
    "    specific_county_df = ut_df[ut_df['County'] == county_name]\n",
    "    family_types = specific_county_df['Family']\n",
    "    \n",
    "    monthly_total_costs = specific_county_df['Total']\n",
    "    yearly_total_costs = specific_county_df['Total.1']\n",
    "\n",
    "    # Print costs to the console\n",
    "    print(f\"\\nCosts for {county_name}:\")\n",
    "    for family, monthly_cost, yearly_cost in zip(family_types, monthly_total_costs, yearly_total_costs):\n",
    "        print(f\"\\tFamily Type: {family}, Monthly Cost: ${monthly_cost}, Yearly Cost: ${yearly_cost}\")\n",
    "\n",
    "    if (plot):\n",
    "        # Monthly costs\n",
    "        plt.figure(figsize=(12, 8))\n",
    "        plt.bar(family_types, monthly_total_costs, color='skyblue')\n",
    "        plt.xlabel('Family Type')\n",
    "        plt.ylabel('Total Cost of Living ($)')\n",
    "        plt.title(f'Monthly Cost of Living by Family Type in {county_name}')\n",
    "        plt.xticks(rotation=45)\n",
    "        plt.show()\n",
    "\n",
    "        # Yearly costs\n",
    "        plt.figure(figsize=(12, 8))\n",
    "        plt.bar(family_types, yearly_total_costs, color='lightgreen')\n",
    "        plt.xlabel('Family Type')\n",
    "        plt.ylabel('Yearly Cost of Living ($)')\n",
    "        plt.title(f'Yearly Cost of Living by Family Type in {county_name}')\n",
    "        plt.xticks(rotation=45)\n",
    "        plt.show()\n",
    "\n",
    "CostOfLivingPerCounty(\"Cache County\", plot=False)\n",
    "CostOfLivingPerCounty(\"Salt Lake County\", plot=False)"
   ]
  },
  {
   "cell_type": "code",
   "execution_count": 49,
   "metadata": {},
   "outputs": [
    {
     "name": "stdout",
     "output_type": "stream",
     "text": [
      "\n",
      "Top 10 most expensive counties by monthly cost:\n",
      "\tSummit County: $9009.40\n",
      "\tMorgan County: $8739.90\n",
      "\tSalt Lake County: $8212.30\n",
      "\tWashington County: $8098.80\n",
      "\tWasatch County: $8098.70\n",
      "\tDavis County: $8096.90\n",
      "\tUtah County: $7683.20\n",
      "\tWeber County: $7655.70\n",
      "\tJuab County: $7636.30\n",
      "\tKane County: $7589.20\n",
      "\n",
      "Top 10 least expensive counties by monthly cost:\n",
      "\tCarbon County: $7085.10\n",
      "\tSevier County: $7207.20\n",
      "\tBeaver County: $7218.90\n",
      "\tEmery County: $7225.80\n",
      "\tDuchesne County: $7254.60\n",
      "\tSanpete County: $7260.40\n",
      "\tWayne County: $7270.80\n",
      "\tGarfield County: $7282.70\n",
      "\tRich County: $7319.30\n",
      "\tMillard County: $7335.80\n"
     ]
    }
   ],
   "source": [
    "def TopCountiesByCost(num, descending=True):\n",
    "    average_costs = {}\n",
    "    \n",
    "    for county in ut_df['County'].unique():\n",
    "        county_data = ut_df[ut_df['County'] == county]\n",
    "        average_monthly_cost = county_data['Total'].mean()\n",
    "        average_costs[county] = average_monthly_cost\n",
    "\n",
    "    # Sort the dictionary by average cost in descending order and get the top 3 counties\n",
    "    top_three_counties = sorted(average_costs, key=average_costs.get, reverse=descending)[:num]\n",
    "\n",
    "    adj = 'most' if descending else 'least'\n",
    "    print(f\"\\nTop {num} {adj} expensive counties by monthly cost:\")\n",
    "    for county in top_three_counties:\n",
    "        print(f\"\\t{county}: ${average_costs[county]:.2f}\")\n",
    "\n",
    "TopCountiesByCost(10)\n",
    "TopCountiesByCost(10, descending=False)"
   ]
  }
 ],
 "metadata": {
  "kernelspec": {
   "display_name": "Python 3",
   "language": "python",
   "name": "python3"
  },
  "language_info": {
   "codemirror_mode": {
    "name": "ipython",
    "version": 3
   },
   "file_extension": ".py",
   "mimetype": "text/x-python",
   "name": "python",
   "nbconvert_exporter": "python",
   "pygments_lexer": "ipython3",
   "version": "3.11.5"
  }
 },
 "nbformat": 4,
 "nbformat_minor": 2
}
